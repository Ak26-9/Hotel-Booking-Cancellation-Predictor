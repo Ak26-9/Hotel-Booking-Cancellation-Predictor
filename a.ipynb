{
 "cells": [
  {
   "cell_type": "code",
   "execution_count": 33,
   "id": "c5c7df26",
   "metadata": {},
   "outputs": [
    {
     "data": {
      "text/plain": [
       "['Resort Hotel', 'City Hotel']"
      ]
     },
     "execution_count": 33,
     "metadata": {},
     "output_type": "execute_result"
    }
   ],
   "source": [
    "import pandas as pd\n",
    "\n",
    "df = pd.read_csv(\"hotel_bookings.csv\")\n",
    "\n",
    "            # 'lead_time': st.number_input(\"Lead Time\", min_value=0, max_value=500),\n",
    "            # 'arrival_date_week_number': st.number_input(\"Week Number\", 1, 53),\n",
    "            # 'babies': st.number_input(\"Babies\", 0, 5),\n",
    "            # 'market_segment': st.selectbox(\"Market Segment\", le_dict['market_segment'].classes_),\n",
    "            # 'distribution_channel': st.selectbox(\"Distribution Channel\", le_dict['distribution_channel'].classes_),\n",
    "            # 'agent': st.number_input(\"Agent\", 0, 600),\n",
    "            # 'company': st.number_input(\"Company\", 0, 600),\n",
    "            # 'adr': st.number_input(\"ADR\", 0.0, 1000.0),\n",
    "\n",
    "# df = df.drop(columns=['lead_time', 'arrival_date_week_number', 'babies', 'market_segment', 'distribution_channel', 'agent', 'company', 'adr'])\n",
    "# df.to_csv(\"hotel_bookings_cleaned.csv\", index=False)\n",
    "df[\"hotel\"].unique().tolist() "
   ]
  },
  {
   "cell_type": "code",
   "execution_count": 34,
   "id": "f70ce504",
   "metadata": {},
   "outputs": [
    {
     "data": {
      "text/plain": [
       "is_canceled\n",
       "0    75166\n",
       "1    44224\n",
       "Name: count, dtype: int64"
      ]
     },
     "execution_count": 34,
     "metadata": {},
     "output_type": "execute_result"
    }
   ],
   "source": [
    "df[\"is_canceled\"].value_counts()"
   ]
  },
  {
   "cell_type": "code",
   "execution_count": 35,
   "id": "c1b1b504",
   "metadata": {},
   "outputs": [],
   "source": [
    "df.shape[0]*0.4\n",
    "df_canceled = df[df[\"is_canceled\"] == 1].sample(40000, random_state=42)\n",
    "df_not_canceled = df[df[\"is_canceled\"] == 0].sample(40000, random_state=42)\n",
    "df1 = pd.concat([df_canceled, df_not_canceled])\n",
    "df1 = df1.sample(frac=1, random_state=42).reset_index(drop=True) "
   ]
  },
  {
   "cell_type": "code",
   "execution_count": 36,
   "id": "2c45d365",
   "metadata": {},
   "outputs": [],
   "source": [
    "#need to create training dataset for the model training with equal instances of canceled and not canceled each with 40000 instances\n",
    "df_canceled = df[df[\"is_canceled\"] == 1].sample(40000, random_state=42)\n",
    "df_not_canceled = df[df[\"is_canceled\"] == 0].sample(40000, random_state=42)\n",
    "df1 = pd.concat([df_canceled, df_not_canceled])\n",
    "#gather these indexes\n",
    "df1_indexes = df1.index.tolist()\n",
    "#use this enitrely to create training dataset\n",
    "df_traing = df1.sample(frac=1, random_state=42).reset_index(drop=True)\n",
    "#save this to a csv file\n",
    "df_traing.to_csv(\"hotel_bookings_training.csv\", index=False)\n",
    "#convert remaining to testing dataset\n",
    "df_test = df.drop(df1_indexes).reset_index(drop=True)\n",
    "\n",
    "#save this to a csv file\n",
    "df_test.to_csv(\"hotel_bookings_testing.csv\", index=False)"
   ]
  },
  {
   "cell_type": "code",
   "execution_count": 37,
   "id": "dd540324",
   "metadata": {},
   "outputs": [],
   "source": [
    "df[\"hotel\"].unique().tolist()\n",
    "\n",
    "df['hotel'] = df['hotel'].replace('Resort Hotel    ', 'Resort Hotel')\n",
    "\n",
    "df[\"hotel\"].unique().tolist()\n",
    "df.to_csv(\"hotel_bookings.csv\", index=False)"
   ]
  },
  {
   "cell_type": "code",
   "execution_count": 38,
   "id": "b7a95f9a",
   "metadata": {},
   "outputs": [
    {
     "data": {
      "text/plain": [
       "['hotel',\n",
       " 'is_canceled',\n",
       " 'lead_time',\n",
       " 'arrival_date_year',\n",
       " 'arrival_date_month',\n",
       " 'arrival_date_week_number',\n",
       " 'arrival_date_day_of_month',\n",
       " 'stays_in_weekend_nights',\n",
       " 'stays_in_week_nights',\n",
       " 'adults',\n",
       " 'children',\n",
       " 'babies',\n",
       " 'meal',\n",
       " 'country',\n",
       " 'market_segment',\n",
       " 'distribution_channel',\n",
       " 'is_repeated_guest',\n",
       " 'previous_cancellations',\n",
       " 'previous_bookings_not_canceled',\n",
       " 'reserved_room_type',\n",
       " 'assigned_room_type',\n",
       " 'booking_changes',\n",
       " 'deposit_type',\n",
       " 'agent',\n",
       " 'company',\n",
       " 'days_in_waiting_list',\n",
       " 'customer_type',\n",
       " 'adr',\n",
       " 'required_car_parking_spaces',\n",
       " 'total_of_special_requests',\n",
       " 'reservation_status',\n",
       " 'reservation_status_date']"
      ]
     },
     "execution_count": 38,
     "metadata": {},
     "output_type": "execute_result"
    }
   ],
   "source": [
    "df.columns.tolist()\n"
   ]
  }
 ],
 "metadata": {
  "kernelspec": {
   "display_name": "base",
   "language": "python",
   "name": "python3"
  },
  "language_info": {
   "codemirror_mode": {
    "name": "ipython",
    "version": 3
   },
   "file_extension": ".py",
   "mimetype": "text/x-python",
   "name": "python",
   "nbconvert_exporter": "python",
   "pygments_lexer": "ipython3",
   "version": "3.11.7"
  }
 },
 "nbformat": 4,
 "nbformat_minor": 5
}
